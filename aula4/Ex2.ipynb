{
 "cells": [
  {
   "cell_type": "code",
   "execution_count": 123,
   "id": "660398cb-3277-46bf-af45-16a32b0020ae",
   "metadata": {
    "tags": []
   },
   "outputs": [],
   "source": [
    "import numpy as np\n",
    "import matplotlib.pyplot as plt"
   ]
  },
  {
   "cell_type": "code",
   "execution_count": 124,
   "id": "3374f401-b03d-472e-901e-c1888e917c34",
   "metadata": {
    "tags": []
   },
   "outputs": [],
   "source": [
    "X = np.array([\n",
    "    [0, 0, 1, 1],\n",
    "    [0, 1, 0, 1],\n",
    "    [1, 1, 1, 1]\n",
    "])"
   ]
  },
  {
   "cell_type": "code",
   "execution_count": 125,
   "id": "ae18c1f1-5587-4152-94d3-6bb6e880388f",
   "metadata": {
    "tags": []
   },
   "outputs": [],
   "source": [
    "Y = np.array([[0, 0, 0, 1]])"
   ]
  },
  {
   "cell_type": "code",
   "execution_count": 126,
   "id": "6970b045-32a8-4cb7-812d-fe665a85785c",
   "metadata": {
    "tags": []
   },
   "outputs": [],
   "source": [
    "W = np.array([\n",
    "    [1],\n",
    "    [1],\n",
    "    [1]\n",
    "])"
   ]
  },
  {
   "cell_type": "code",
   "execution_count": 127,
   "id": "46655155-9520-4c6a-a8b7-257bd70bd912",
   "metadata": {
    "tags": []
   },
   "outputs": [],
   "source": [
    "alpha = 0.001"
   ]
  },
  {
   "cell_type": "code",
   "execution_count": 142,
   "id": "c67a410f-a51a-4bd5-8596-d064a9821d68",
   "metadata": {
    "tags": []
   },
   "outputs": [],
   "source": [
    "def feedward(W, X):\n",
    "    t_Y = np.matmul(W.T, X)\n",
    "    return np.mean(t_Y - Y)"
   ]
  },
  {
   "cell_type": "code",
   "execution_count": 149,
   "id": "d0542252-b8a7-431c-9371-ce098afc3a31",
   "metadata": {
    "tags": []
   },
   "outputs": [],
   "source": [
    "def feedback(e, X, W, alpha):\n",
    "    return W - alpha * e * X.mean(axis=1, keepdims=True)    "
   ]
  },
  {
   "cell_type": "code",
   "execution_count": 150,
   "id": "83adcf3f-1d14-4597-ace8-bd95337ac72f",
   "metadata": {
    "tags": []
   },
   "outputs": [],
   "source": [
    "for i in range(10000):\n",
    "    e = feedward(W, X)\n",
    "    W = feedback(e, X, W, alpha)"
   ]
  },
  {
   "cell_type": "code",
   "execution_count": 151,
   "id": "a7286c54-b712-4d60-bdbe-6271b6706d39",
   "metadata": {
    "tags": []
   },
   "outputs": [
    {
     "data": {
      "text/plain": [
       "array([[0.12089737, 0.25000001, 0.25000001, 0.37910264]])"
      ]
     },
     "execution_count": 151,
     "metadata": {},
     "output_type": "execute_result"
    }
   ],
   "source": [
    "np.matmul(W.T, X)"
   ]
  },
  {
   "cell_type": "code",
   "execution_count": 152,
   "id": "7f6a8cb2-ec80-469e-88c1-5597bc366381",
   "metadata": {
    "tags": []
   },
   "outputs": [],
   "source": [
    "x = np.linspace(-0.1, 1.1, 10)"
   ]
  },
  {
   "cell_type": "code",
   "execution_count": 153,
   "id": "591df065-dab7-4a00-a6f7-60bea2bab5bc",
   "metadata": {
    "tags": []
   },
   "outputs": [],
   "source": [
    "y = - x * (W[0, 0] / W[1, 0]) - (W[2, 0] /  W[1, 0])"
   ]
  },
  {
   "cell_type": "code",
   "execution_count": 154,
   "id": "32618469-41cc-4278-b305-6b3d2e41ce85",
   "metadata": {
    "tags": []
   },
   "outputs": [
    {
     "data": {
      "image/png": "[encoded data removed]",
      "text/plain": [
       "<Figure size 640x480 with 1 Axes>"
      ]
     },
     "metadata": {},
     "output_type": "display_data"
    }
   ],
   "source": [
    "plt.plot(x, y)\n",
    "plt.plot(0,0, 'ro')\n",
    "plt.plot(1,0, 'ro')\n",
    "plt.plot(0,1, 'ro')\n",
    "plt.plot(1,1, 'bo')\n",
    "plt.show()"
   ]
  },
  {
   "cell_type": "code",
   "execution_count": null,
   "id": "03f9fe28-5f61-4108-97b8-f28d4bdbe43d",
   "metadata": {},
   "outputs": [],
   "source": []
  },
  {
   "cell_type": "code",
   "execution_count": null,
   "id": "637c71aa-5b3a-4b12-8384-ef983067071a",
   "metadata": {},
   "outputs": [],
   "source": []
  }
 ],
 "metadata": {
  "kernelspec": {
   "display_name": "Python 3 (ipykernel)",
   "language": "python",
   "name": "python3"
  },
  "language_info": {
   "codemirror_mode": {
    "name": "ipython",
    "version": 3
   },
   "file_extension": ".py",
   "mimetype": "text/x-python",
   "name": "python",
   "nbconvert_exporter": "python",
   "pygments_lexer": "ipython3",
   "version": "3.11.5"
  }
 },
 "nbformat": 4,
 "nbformat_minor": 5
}
