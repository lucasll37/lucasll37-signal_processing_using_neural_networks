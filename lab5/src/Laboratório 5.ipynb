{
 "cells": [
  {
   "cell_type": "markdown",
   "metadata": {},
   "source": [
    "# Previsão climatica utilizando Redes Neurais Recorrentes"
   ]
  },
  {
   "cell_type": "markdown",
   "metadata": {},
   "source": [
    "##### Importação de bibliotecas"
   ]
  },
  {
   "cell_type": "code",
   "execution_count": 1,
   "metadata": {},
   "outputs": [
    {
     "name": "stderr",
     "output_type": "stream",
     "text": [
      "2024-06-10 20:09:20.954610: I tensorflow/core/platform/cpu_feature_guard.cc:182] This TensorFlow binary is optimized to use available CPU instructions in performance-critical operations.\n",
      "To enable the following instructions: AVX2 AVX512F FMA, in other operations, rebuild TensorFlow with the appropriate compiler flags.\n",
      "2024-06-10 20:09:22.252214: W tensorflow/compiler/tf2tensorrt/utils/py_utils.cc:38] TF-TRT Warning: Could not find TensorRT\n"
     ]
    }
   ],
   "source": [
    "import pandas as pd\n",
    "import numpy as np\n",
    "import matplotlib.pyplot as plt\n",
    "import seaborn as sns\n",
    "\n",
    "from sklearn.preprocessing import StandardScaler\n",
    "from sklearn.model_selection import train_test_split\n",
    "from sklearn.metrics import mean_squared_error, mean_absolute_error\n",
    "from keras.models import Sequential\n",
    "from keras.layers import Dense, Dropout, LSTM\n",
    "from keras.callbacks import EarlyStopping, ReduceLROnPlateau, TerminateOnNaN"
   ]
  },
  {
   "cell_type": "markdown",
   "metadata": {},
   "source": [
    "## Desenvolvimento e Questões"
   ]
  },
  {
   "cell_type": "markdown",
   "metadata": {},
   "source": [
    "- ### 1) Baixe o dataset [Jena Climate](https://www.kaggle.com/datasets/mnassribjena-climate)."
   ]
  },
  {
   "cell_type": "code",
   "execution_count": 2,
   "metadata": {},
   "outputs": [],
   "source": [
    "data = pd.read_csv('../data/jena_climate_2009_2016.csv', index_col=\"Date Time\")\n",
    "data.index = pd.to_datetime(data.index)"
   ]
  },
  {
   "cell_type": "markdown",
   "metadata": {},
   "source": [
    "### Análise exploratória"
   ]
  },
  {
   "cell_type": "code",
   "execution_count": 3,
   "metadata": {},
   "outputs": [
    {
     "data": {
      "text/html": [
       "<div>\n",
       "<style scoped>\n",
       "    .dataframe tbody tr th:only-of-type {\n",
       "        vertical-align: middle;\n",
       "    }\n",
       "\n",
       "    .dataframe tbody tr th {\n",
       "        vertical-align: top;\n",
       "    }\n",
       "\n",
       "    .dataframe thead th {\n",
       "        text-align: right;\n",
       "    }\n",
       "</style>\n",
       "<table border=\"1\" class=\"dataframe\">\n",
       "  <thead>\n",
       "    <tr style=\"text-align: right;\">\n",
       "      <th></th>\n",
       "      <th>p (mbar)</th>\n",
       "      <th>T (degC)</th>\n",
       "      <th>Tpot (K)</th>\n",
       "      <th>Tdew (degC)</th>\n",
       "      <th>rh (%)</th>\n",
       "      <th>VPmax (mbar)</th>\n",
       "      <th>VPact (mbar)</th>\n",
       "      <th>VPdef (mbar)</th>\n",
       "      <th>sh (g/kg)</th>\n",
       "      <th>H2OC (mmol/mol)</th>\n",
       "      <th>rho (g/m**3)</th>\n",
       "      <th>wv (m/s)</th>\n",
       "      <th>max. wv (m/s)</th>\n",
       "      <th>wd (deg)</th>\n",
       "    </tr>\n",
       "    <tr>\n",
       "      <th>Date Time</th>\n",
       "      <th></th>\n",
       "      <th></th>\n",
       "      <th></th>\n",
       "      <th></th>\n",
       "      <th></th>\n",
       "      <th></th>\n",
       "      <th></th>\n",
       "      <th></th>\n",
       "      <th></th>\n",
       "      <th></th>\n",
       "      <th></th>\n",
       "      <th></th>\n",
       "      <th></th>\n",
       "      <th></th>\n",
       "    </tr>\n",
       "  </thead>\n",
       "  <tbody>\n",
       "    <tr>\n",
       "      <th>2009-01-01 00:10:00</th>\n",
       "      <td>996.52</td>\n",
       "      <td>-8.02</td>\n",
       "      <td>265.40</td>\n",
       "      <td>-8.90</td>\n",
       "      <td>93.3</td>\n",
       "      <td>3.33</td>\n",
       "      <td>3.11</td>\n",
       "      <td>0.22</td>\n",
       "      <td>1.94</td>\n",
       "      <td>3.12</td>\n",
       "      <td>1307.75</td>\n",
       "      <td>1.03</td>\n",
       "      <td>1.75</td>\n",
       "      <td>152.3</td>\n",
       "    </tr>\n",
       "    <tr>\n",
       "      <th>2009-01-01 00:20:00</th>\n",
       "      <td>996.57</td>\n",
       "      <td>-8.41</td>\n",
       "      <td>265.01</td>\n",
       "      <td>-9.28</td>\n",
       "      <td>93.4</td>\n",
       "      <td>3.23</td>\n",
       "      <td>3.02</td>\n",
       "      <td>0.21</td>\n",
       "      <td>1.89</td>\n",
       "      <td>3.03</td>\n",
       "      <td>1309.80</td>\n",
       "      <td>0.72</td>\n",
       "      <td>1.50</td>\n",
       "      <td>136.1</td>\n",
       "    </tr>\n",
       "    <tr>\n",
       "      <th>2009-01-01 00:30:00</th>\n",
       "      <td>996.53</td>\n",
       "      <td>-8.51</td>\n",
       "      <td>264.91</td>\n",
       "      <td>-9.31</td>\n",
       "      <td>93.9</td>\n",
       "      <td>3.21</td>\n",
       "      <td>3.01</td>\n",
       "      <td>0.20</td>\n",
       "      <td>1.88</td>\n",
       "      <td>3.02</td>\n",
       "      <td>1310.24</td>\n",
       "      <td>0.19</td>\n",
       "      <td>0.63</td>\n",
       "      <td>171.6</td>\n",
       "    </tr>\n",
       "    <tr>\n",
       "      <th>2009-01-01 00:40:00</th>\n",
       "      <td>996.51</td>\n",
       "      <td>-8.31</td>\n",
       "      <td>265.12</td>\n",
       "      <td>-9.07</td>\n",
       "      <td>94.2</td>\n",
       "      <td>3.26</td>\n",
       "      <td>3.07</td>\n",
       "      <td>0.19</td>\n",
       "      <td>1.92</td>\n",
       "      <td>3.08</td>\n",
       "      <td>1309.19</td>\n",
       "      <td>0.34</td>\n",
       "      <td>0.50</td>\n",
       "      <td>198.0</td>\n",
       "    </tr>\n",
       "    <tr>\n",
       "      <th>2009-01-01 00:50:00</th>\n",
       "      <td>996.51</td>\n",
       "      <td>-8.27</td>\n",
       "      <td>265.15</td>\n",
       "      <td>-9.04</td>\n",
       "      <td>94.1</td>\n",
       "      <td>3.27</td>\n",
       "      <td>3.08</td>\n",
       "      <td>0.19</td>\n",
       "      <td>1.92</td>\n",
       "      <td>3.09</td>\n",
       "      <td>1309.00</td>\n",
       "      <td>0.32</td>\n",
       "      <td>0.63</td>\n",
       "      <td>214.3</td>\n",
       "    </tr>\n",
       "    <tr>\n",
       "      <th>2009-01-01 01:00:00</th>\n",
       "      <td>996.50</td>\n",
       "      <td>-8.05</td>\n",
       "      <td>265.38</td>\n",
       "      <td>-8.78</td>\n",
       "      <td>94.4</td>\n",
       "      <td>3.33</td>\n",
       "      <td>3.14</td>\n",
       "      <td>0.19</td>\n",
       "      <td>1.96</td>\n",
       "      <td>3.15</td>\n",
       "      <td>1307.86</td>\n",
       "      <td>0.21</td>\n",
       "      <td>0.63</td>\n",
       "      <td>192.7</td>\n",
       "    </tr>\n",
       "    <tr>\n",
       "      <th>2009-01-01 01:10:00</th>\n",
       "      <td>996.50</td>\n",
       "      <td>-7.62</td>\n",
       "      <td>265.81</td>\n",
       "      <td>-8.30</td>\n",
       "      <td>94.8</td>\n",
       "      <td>3.44</td>\n",
       "      <td>3.26</td>\n",
       "      <td>0.18</td>\n",
       "      <td>2.04</td>\n",
       "      <td>3.27</td>\n",
       "      <td>1305.68</td>\n",
       "      <td>0.18</td>\n",
       "      <td>0.63</td>\n",
       "      <td>166.5</td>\n",
       "    </tr>\n",
       "    <tr>\n",
       "      <th>2009-01-01 01:20:00</th>\n",
       "      <td>996.50</td>\n",
       "      <td>-7.62</td>\n",
       "      <td>265.81</td>\n",
       "      <td>-8.36</td>\n",
       "      <td>94.4</td>\n",
       "      <td>3.44</td>\n",
       "      <td>3.25</td>\n",
       "      <td>0.19</td>\n",
       "      <td>2.03</td>\n",
       "      <td>3.26</td>\n",
       "      <td>1305.69</td>\n",
       "      <td>0.19</td>\n",
       "      <td>0.50</td>\n",
       "      <td>118.6</td>\n",
       "    </tr>\n",
       "    <tr>\n",
       "      <th>2009-01-01 01:30:00</th>\n",
       "      <td>996.50</td>\n",
       "      <td>-7.91</td>\n",
       "      <td>265.52</td>\n",
       "      <td>-8.73</td>\n",
       "      <td>93.8</td>\n",
       "      <td>3.36</td>\n",
       "      <td>3.15</td>\n",
       "      <td>0.21</td>\n",
       "      <td>1.97</td>\n",
       "      <td>3.16</td>\n",
       "      <td>1307.17</td>\n",
       "      <td>0.28</td>\n",
       "      <td>0.75</td>\n",
       "      <td>188.5</td>\n",
       "    </tr>\n",
       "    <tr>\n",
       "      <th>2009-01-01 01:40:00</th>\n",
       "      <td>996.53</td>\n",
       "      <td>-8.43</td>\n",
       "      <td>264.99</td>\n",
       "      <td>-9.34</td>\n",
       "      <td>93.1</td>\n",
       "      <td>3.23</td>\n",
       "      <td>3.00</td>\n",
       "      <td>0.22</td>\n",
       "      <td>1.88</td>\n",
       "      <td>3.02</td>\n",
       "      <td>1309.85</td>\n",
       "      <td>0.59</td>\n",
       "      <td>0.88</td>\n",
       "      <td>185.0</td>\n",
       "    </tr>\n",
       "  </tbody>\n",
       "</table>\n",
       "</div>"
      ],
      "text/plain": [
       "                     p (mbar)  T (degC)  Tpot (K)  Tdew (degC)  rh (%)  \\\n",
       "Date Time                                                                \n",
       "2009-01-01 00:10:00    996.52     -8.02    265.40        -8.90    93.3   \n",
       "2009-01-01 00:20:00    996.57     -8.41    265.01        -9.28    93.4   \n",
       "2009-01-01 00:30:00    996.53     -8.51    264.91        -9.31    93.9   \n",
       "2009-01-01 00:40:00    996.51     -8.31    265.12        -9.07    94.2   \n",
       "2009-01-01 00:50:00    996.51     -8.27    265.15        -9.04    94.1   \n",
       "2009-01-01 01:00:00    996.50     -8.05    265.38        -8.78    94.4   \n",
       "2009-01-01 01:10:00    996.50     -7.62    265.81        -8.30    94.8   \n",
       "2009-01-01 01:20:00    996.50     -7.62    265.81        -8.36    94.4   \n",
       "2009-01-01 01:30:00    996.50     -7.91    265.52        -8.73    93.8   \n",
       "2009-01-01 01:40:00    996.53     -8.43    264.99        -9.34    93.1   \n",
       "\n",
       "                     VPmax (mbar)  VPact (mbar)  VPdef (mbar)  sh (g/kg)  \\\n",
       "Date Time                                                                  \n",
       "2009-01-01 00:10:00          3.33          3.11          0.22       1.94   \n",
       "2009-01-01 00:20:00          3.23          3.02          0.21       1.89   \n",
       "2009-01-01 00:30:00          3.21          3.01          0.20       1.88   \n",
       "2009-01-01 00:40:00          3.26          3.07          0.19       1.92   \n",
       "2009-01-01 00:50:00          3.27          3.08          0.19       1.92   \n",
       "2009-01-01 01:00:00          3.33          3.14          0.19       1.96   \n",
       "2009-01-01 01:10:00          3.44          3.26          0.18       2.04   \n",
       "2009-01-01 01:20:00          3.44          3.25          0.19       2.03   \n",
       "2009-01-01 01:30:00          3.36          3.15          0.21       1.97   \n",
       "2009-01-01 01:40:00          3.23          3.00          0.22       1.88   \n",
       "\n",
       "                     H2OC (mmol/mol)  rho (g/m**3)  wv (m/s)  max. wv (m/s)  \\\n",
       "Date Time                                                                     \n",
       "2009-01-01 00:10:00             3.12       1307.75      1.03           1.75   \n",
       "2009-01-01 00:20:00             3.03       1309.80      0.72           1.50   \n",
       "2009-01-01 00:30:00             3.02       1310.24      0.19           0.63   \n",
       "2009-01-01 00:40:00             3.08       1309.19      0.34           0.50   \n",
       "2009-01-01 00:50:00             3.09       1309.00      0.32           0.63   \n",
       "2009-01-01 01:00:00             3.15       1307.86      0.21           0.63   \n",
       "2009-01-01 01:10:00             3.27       1305.68      0.18           0.63   \n",
       "2009-01-01 01:20:00             3.26       1305.69      0.19           0.50   \n",
       "2009-01-01 01:30:00             3.16       1307.17      0.28           0.75   \n",
       "2009-01-01 01:40:00             3.02       1309.85      0.59           0.88   \n",
       "\n",
       "                     wd (deg)  \n",
       "Date Time                      \n",
       "2009-01-01 00:10:00     152.3  \n",
       "2009-01-01 00:20:00     136.1  \n",
       "2009-01-01 00:30:00     171.6  \n",
       "2009-01-01 00:40:00     198.0  \n",
       "2009-01-01 00:50:00     214.3  \n",
       "2009-01-01 01:00:00     192.7  \n",
       "2009-01-01 01:10:00     166.5  \n",
       "2009-01-01 01:20:00     118.6  \n",
       "2009-01-01 01:30:00     188.5  \n",
       "2009-01-01 01:40:00     185.0  "
      ]
     },
     "execution_count": 3,
     "metadata": {},
     "output_type": "execute_result"
    }
   ],
   "source": [
    "data.head(10)"
   ]
  },
  {
   "cell_type": "code",
   "execution_count": 4,
   "metadata": {},
   "outputs": [
    {
     "name": "stdout",
     "output_type": "stream",
     "text": [
      "<class 'pandas.core.frame.DataFrame'>\n",
      "DatetimeIndex: 420551 entries, 2009-01-01 00:10:00 to 2017-01-01 00:00:00\n",
      "Data columns (total 14 columns):\n",
      " #   Column           Non-Null Count   Dtype  \n",
      "---  ------           --------------   -----  \n",
      " 0   p (mbar)         420551 non-null  float64\n",
      " 1   T (degC)         420551 non-null  float64\n",
      " 2   Tpot (K)         420551 non-null  float64\n",
      " 3   Tdew (degC)      420551 non-null  float64\n",
      " 4   rh (%)           420551 non-null  float64\n",
      " 5   VPmax (mbar)     420551 non-null  float64\n",
      " 6   VPact (mbar)     420551 non-null  float64\n",
      " 7   VPdef (mbar)     420551 non-null  float64\n",
      " 8   sh (g/kg)        420551 non-null  float64\n",
      " 9   H2OC (mmol/mol)  420551 non-null  float64\n",
      " 10  rho (g/m**3)     420551 non-null  float64\n",
      " 11  wv (m/s)         420551 non-null  float64\n",
      " 12  max. wv (m/s)    420551 non-null  float64\n",
      " 13  wd (deg)         420551 non-null  float64\n",
      "dtypes: float64(14)\n",
      "memory usage: 48.1 MB\n"
     ]
    }
   ],
   "source": [
    "data.info()"
   ]
  },
  {
   "cell_type": "code",
   "execution_count": 5,
   "metadata": {},
   "outputs": [
    {
     "data": {
      "text/html": [
       "<div>\n",
       "<style scoped>\n",
       "    .dataframe tbody tr th:only-of-type {\n",
       "        vertical-align: middle;\n",
       "    }\n",
       "\n",
       "    .dataframe tbody tr th {\n",
       "        vertical-align: top;\n",
       "    }\n",
       "\n",
       "    .dataframe thead th {\n",
       "        text-align: right;\n",
       "    }\n",
       "</style>\n",
       "<table border=\"1\" class=\"dataframe\">\n",
       "  <thead>\n",
       "    <tr style=\"text-align: right;\">\n",
       "      <th></th>\n",
       "      <th>p (mbar)</th>\n",
       "      <th>T (degC)</th>\n",
       "      <th>Tpot (K)</th>\n",
       "      <th>Tdew (degC)</th>\n",
       "      <th>rh (%)</th>\n",
       "      <th>VPmax (mbar)</th>\n",
       "      <th>VPact (mbar)</th>\n",
       "      <th>VPdef (mbar)</th>\n",
       "      <th>sh (g/kg)</th>\n",
       "      <th>H2OC (mmol/mol)</th>\n",
       "      <th>rho (g/m**3)</th>\n",
       "      <th>wv (m/s)</th>\n",
       "      <th>max. wv (m/s)</th>\n",
       "      <th>wd (deg)</th>\n",
       "    </tr>\n",
       "  </thead>\n",
       "  <tbody>\n",
       "    <tr>\n",
       "      <th>count</th>\n",
       "      <td>420551.000000</td>\n",
       "      <td>420551.000000</td>\n",
       "      <td>420551.000000</td>\n",
       "      <td>420551.000000</td>\n",
       "      <td>420551.000000</td>\n",
       "      <td>420551.000000</td>\n",
       "      <td>420551.000000</td>\n",
       "      <td>420551.000000</td>\n",
       "      <td>420551.000000</td>\n",
       "      <td>420551.000000</td>\n",
       "      <td>420551.000000</td>\n",
       "      <td>420551.000000</td>\n",
       "      <td>420551.000000</td>\n",
       "      <td>420551.000000</td>\n",
       "    </tr>\n",
       "    <tr>\n",
       "      <th>mean</th>\n",
       "      <td>989.212776</td>\n",
       "      <td>9.450147</td>\n",
       "      <td>283.492743</td>\n",
       "      <td>4.955854</td>\n",
       "      <td>76.008259</td>\n",
       "      <td>13.576251</td>\n",
       "      <td>9.533756</td>\n",
       "      <td>4.042412</td>\n",
       "      <td>6.022408</td>\n",
       "      <td>9.640223</td>\n",
       "      <td>1216.062748</td>\n",
       "      <td>1.702224</td>\n",
       "      <td>3.056555</td>\n",
       "      <td>174.743738</td>\n",
       "    </tr>\n",
       "    <tr>\n",
       "      <th>std</th>\n",
       "      <td>8.358481</td>\n",
       "      <td>8.423365</td>\n",
       "      <td>8.504471</td>\n",
       "      <td>6.730674</td>\n",
       "      <td>16.476175</td>\n",
       "      <td>7.739020</td>\n",
       "      <td>4.184164</td>\n",
       "      <td>4.896851</td>\n",
       "      <td>2.656139</td>\n",
       "      <td>4.235395</td>\n",
       "      <td>39.975208</td>\n",
       "      <td>65.446714</td>\n",
       "      <td>69.016932</td>\n",
       "      <td>86.681693</td>\n",
       "    </tr>\n",
       "    <tr>\n",
       "      <th>min</th>\n",
       "      <td>913.600000</td>\n",
       "      <td>-23.010000</td>\n",
       "      <td>250.600000</td>\n",
       "      <td>-25.010000</td>\n",
       "      <td>12.950000</td>\n",
       "      <td>0.950000</td>\n",
       "      <td>0.790000</td>\n",
       "      <td>0.000000</td>\n",
       "      <td>0.500000</td>\n",
       "      <td>0.800000</td>\n",
       "      <td>1059.450000</td>\n",
       "      <td>-9999.000000</td>\n",
       "      <td>-9999.000000</td>\n",
       "      <td>0.000000</td>\n",
       "    </tr>\n",
       "    <tr>\n",
       "      <th>25%</th>\n",
       "      <td>984.200000</td>\n",
       "      <td>3.360000</td>\n",
       "      <td>277.430000</td>\n",
       "      <td>0.240000</td>\n",
       "      <td>65.210000</td>\n",
       "      <td>7.780000</td>\n",
       "      <td>6.210000</td>\n",
       "      <td>0.870000</td>\n",
       "      <td>3.920000</td>\n",
       "      <td>6.290000</td>\n",
       "      <td>1187.490000</td>\n",
       "      <td>0.990000</td>\n",
       "      <td>1.760000</td>\n",
       "      <td>124.900000</td>\n",
       "    </tr>\n",
       "    <tr>\n",
       "      <th>50%</th>\n",
       "      <td>989.580000</td>\n",
       "      <td>9.420000</td>\n",
       "      <td>283.470000</td>\n",
       "      <td>5.220000</td>\n",
       "      <td>79.300000</td>\n",
       "      <td>11.820000</td>\n",
       "      <td>8.860000</td>\n",
       "      <td>2.190000</td>\n",
       "      <td>5.590000</td>\n",
       "      <td>8.960000</td>\n",
       "      <td>1213.790000</td>\n",
       "      <td>1.760000</td>\n",
       "      <td>2.960000</td>\n",
       "      <td>198.100000</td>\n",
       "    </tr>\n",
       "    <tr>\n",
       "      <th>75%</th>\n",
       "      <td>994.720000</td>\n",
       "      <td>15.470000</td>\n",
       "      <td>289.530000</td>\n",
       "      <td>10.070000</td>\n",
       "      <td>89.400000</td>\n",
       "      <td>17.600000</td>\n",
       "      <td>12.350000</td>\n",
       "      <td>5.300000</td>\n",
       "      <td>7.800000</td>\n",
       "      <td>12.490000</td>\n",
       "      <td>1242.770000</td>\n",
       "      <td>2.860000</td>\n",
       "      <td>4.740000</td>\n",
       "      <td>234.100000</td>\n",
       "    </tr>\n",
       "    <tr>\n",
       "      <th>max</th>\n",
       "      <td>1015.350000</td>\n",
       "      <td>37.280000</td>\n",
       "      <td>311.340000</td>\n",
       "      <td>23.110000</td>\n",
       "      <td>100.000000</td>\n",
       "      <td>63.770000</td>\n",
       "      <td>28.320000</td>\n",
       "      <td>46.010000</td>\n",
       "      <td>18.130000</td>\n",
       "      <td>28.820000</td>\n",
       "      <td>1393.540000</td>\n",
       "      <td>28.490000</td>\n",
       "      <td>23.500000</td>\n",
       "      <td>360.000000</td>\n",
       "    </tr>\n",
       "  </tbody>\n",
       "</table>\n",
       "</div>"
      ],
      "text/plain": [
       "            p (mbar)       T (degC)       Tpot (K)    Tdew (degC)  \\\n",
       "count  420551.000000  420551.000000  420551.000000  420551.000000   \n",
       "mean      989.212776       9.450147     283.492743       4.955854   \n",
       "std         8.358481       8.423365       8.504471       6.730674   \n",
       "min       913.600000     -23.010000     250.600000     -25.010000   \n",
       "25%       984.200000       3.360000     277.430000       0.240000   \n",
       "50%       989.580000       9.420000     283.470000       5.220000   \n",
       "75%       994.720000      15.470000     289.530000      10.070000   \n",
       "max      1015.350000      37.280000     311.340000      23.110000   \n",
       "\n",
       "              rh (%)   VPmax (mbar)   VPact (mbar)   VPdef (mbar)  \\\n",
       "count  420551.000000  420551.000000  420551.000000  420551.000000   \n",
       "mean       76.008259      13.576251       9.533756       4.042412   \n",
       "std        16.476175       7.739020       4.184164       4.896851   \n",
       "min        12.950000       0.950000       0.790000       0.000000   \n",
       "25%        65.210000       7.780000       6.210000       0.870000   \n",
       "50%        79.300000      11.820000       8.860000       2.190000   \n",
       "75%        89.400000      17.600000      12.350000       5.300000   \n",
       "max       100.000000      63.770000      28.320000      46.010000   \n",
       "\n",
       "           sh (g/kg)  H2OC (mmol/mol)   rho (g/m**3)       wv (m/s)  \\\n",
       "count  420551.000000    420551.000000  420551.000000  420551.000000   \n",
       "mean        6.022408         9.640223    1216.062748       1.702224   \n",
       "std         2.656139         4.235395      39.975208      65.446714   \n",
       "min         0.500000         0.800000    1059.450000   -9999.000000   \n",
       "25%         3.920000         6.290000    1187.490000       0.990000   \n",
       "50%         5.590000         8.960000    1213.790000       1.760000   \n",
       "75%         7.800000        12.490000    1242.770000       2.860000   \n",
       "max        18.130000        28.820000    1393.540000      28.490000   \n",
       "\n",
       "       max. wv (m/s)       wd (deg)  \n",
       "count  420551.000000  420551.000000  \n",
       "mean        3.056555     174.743738  \n",
       "std        69.016932      86.681693  \n",
       "min     -9999.000000       0.000000  \n",
       "25%         1.760000     124.900000  \n",
       "50%         2.960000     198.100000  \n",
       "75%         4.740000     234.100000  \n",
       "max        23.500000     360.000000  "
      ]
     },
     "execution_count": 5,
     "metadata": {},
     "output_type": "execute_result"
    }
   ],
   "source": [
    "data.describe()"
   ]
  },
  {
   "cell_type": "code",
   "execution_count": 6,
   "metadata": {},
   "outputs": [],
   "source": [
    "# fig, axs = plt.subplots(5, 3, figsize=(9, 15))\n",
    "\n",
    "# for index, ax in enumerate(axs.flatten()):\n",
    "#     if index >= len(data.columns):\n",
    "#         ax.remove()\n",
    "    \n",
    "#     else:\n",
    "#         sns.kdeplot(data=data, x=data.columns[index], ax=ax)\n",
    "#         ax.set_title(f'{data.columns[index]} Distribution')\n",
    "\n",
    "# plt.tight_layout(rect=[0, 0, 1, 0.95])\n",
    "# plt.show()"
   ]
  },
  {
   "cell_type": "markdown",
   "metadata": {},
   "source": [
    "- ### 2) Faça a indexação dos dados temporalmente e considere somente a variável Temperatura."
   ]
  },
  {
   "cell_type": "code",
   "execution_count": 7,
   "metadata": {},
   "outputs": [],
   "source": [
    "data_temperatura = data[[\"T (degC)\"]]"
   ]
  },
  {
   "cell_type": "code",
   "execution_count": 8,
   "metadata": {},
   "outputs": [
    {
     "data": {
      "text/html": [
       "<div>\n",
       "<style scoped>\n",
       "    .dataframe tbody tr th:only-of-type {\n",
       "        vertical-align: middle;\n",
       "    }\n",
       "\n",
       "    .dataframe tbody tr th {\n",
       "        vertical-align: top;\n",
       "    }\n",
       "\n",
       "    .dataframe thead th {\n",
       "        text-align: right;\n",
       "    }\n",
       "</style>\n",
       "<table border=\"1\" class=\"dataframe\">\n",
       "  <thead>\n",
       "    <tr style=\"text-align: right;\">\n",
       "      <th></th>\n",
       "      <th>T (degC)</th>\n",
       "    </tr>\n",
       "    <tr>\n",
       "      <th>Date Time</th>\n",
       "      <th></th>\n",
       "    </tr>\n",
       "  </thead>\n",
       "  <tbody>\n",
       "    <tr>\n",
       "      <th>2009-01-01 00:10:00</th>\n",
       "      <td>-8.02</td>\n",
       "    </tr>\n",
       "    <tr>\n",
       "      <th>2009-01-01 00:20:00</th>\n",
       "      <td>-8.41</td>\n",
       "    </tr>\n",
       "    <tr>\n",
       "      <th>2009-01-01 00:30:00</th>\n",
       "      <td>-8.51</td>\n",
       "    </tr>\n",
       "    <tr>\n",
       "      <th>2009-01-01 00:40:00</th>\n",
       "      <td>-8.31</td>\n",
       "    </tr>\n",
       "    <tr>\n",
       "      <th>2009-01-01 00:50:00</th>\n",
       "      <td>-8.27</td>\n",
       "    </tr>\n",
       "    <tr>\n",
       "      <th>2009-01-01 01:00:00</th>\n",
       "      <td>-8.05</td>\n",
       "    </tr>\n",
       "    <tr>\n",
       "      <th>2009-01-01 01:10:00</th>\n",
       "      <td>-7.62</td>\n",
       "    </tr>\n",
       "    <tr>\n",
       "      <th>2009-01-01 01:20:00</th>\n",
       "      <td>-7.62</td>\n",
       "    </tr>\n",
       "    <tr>\n",
       "      <th>2009-01-01 01:30:00</th>\n",
       "      <td>-7.91</td>\n",
       "    </tr>\n",
       "    <tr>\n",
       "      <th>2009-01-01 01:40:00</th>\n",
       "      <td>-8.43</td>\n",
       "    </tr>\n",
       "  </tbody>\n",
       "</table>\n",
       "</div>"
      ],
      "text/plain": [
       "                     T (degC)\n",
       "Date Time                    \n",
       "2009-01-01 00:10:00     -8.02\n",
       "2009-01-01 00:20:00     -8.41\n",
       "2009-01-01 00:30:00     -8.51\n",
       "2009-01-01 00:40:00     -8.31\n",
       "2009-01-01 00:50:00     -8.27\n",
       "2009-01-01 01:00:00     -8.05\n",
       "2009-01-01 01:10:00     -7.62\n",
       "2009-01-01 01:20:00     -7.62\n",
       "2009-01-01 01:30:00     -7.91\n",
       "2009-01-01 01:40:00     -8.43"
      ]
     },
     "execution_count": 8,
     "metadata": {},
     "output_type": "execute_result"
    }
   ],
   "source": [
    "data_temperatura.head(10)"
   ]
  },
  {
   "cell_type": "markdown",
   "metadata": {},
   "source": [
    "- ### 3) Particione a base de dados sendo 80% dos dados para treinar, 15% para validar e 5% para testar. (Lembre-se de manter a sequencia temporal, ou seja, configure shuffle = 0)."
   ]
  },
  {
   "cell_type": "markdown",
   "metadata": {},
   "source": [
    "##### Transformação"
   ]
  },
  {
   "cell_type": "code",
   "execution_count": 9,
   "metadata": {},
   "outputs": [],
   "source": [
    "t_mean = float(data_temperatura.mean())\n",
    "t_std = float(data_temperatura.std())\n",
    "\n",
    "data_temperatura = (data_temperatura - t_mean)/t_std"
   ]
  },
  {
   "cell_type": "markdown",
   "metadata": {},
   "source": [
    "##### Train test split"
   ]
  },
  {
   "cell_type": "code",
   "execution_count": 10,
   "metadata": {},
   "outputs": [],
   "source": [
    "train, _temp = train_test_split(data_temperatura, test_size=0.2, shuffle=False)\n",
    "val, test = train_test_split(_temp, test_size=0.25, shuffle=False)\n",
    "\n",
    "scaled_train = train.values\n",
    "scaled_val = val.values\n",
    "scaled_test = test.values"
   ]
  },
  {
   "cell_type": "code",
   "execution_count": 11,
   "metadata": {},
   "outputs": [],
   "source": [
    "timesteps_input = 120\n",
    "timesteps_output = 6"
   ]
  },
  {
   "cell_type": "code",
   "execution_count": 12,
   "metadata": {},
   "outputs": [],
   "source": [
    "X_train, y_train = [], []\n",
    "\n",
    "for i in range(timesteps_input, len(scaled_train) - timesteps_output):\n",
    "    X_train.append(scaled_train[i-timesteps_input:i, :])\n",
    "    y_train.append(scaled_train[i: i+timesteps_output, 0])\n",
    "\n",
    "X_train = np.array(X_train)\n",
    "y_train = np.array(y_train)"
   ]
  },
  {
   "cell_type": "code",
   "execution_count": 13,
   "metadata": {},
   "outputs": [],
   "source": [
    "X_val, y_val = [], []\n",
    "\n",
    "for i in range(timesteps_input, len(scaled_val) - timesteps_output):\n",
    "    X_val.append(scaled_val[i-timesteps_input:i, :])\n",
    "    y_val.append(scaled_val[i: i+timesteps_output, 0])\n",
    "\n",
    "X_val = np.array(X_val)\n",
    "y_val = np.array(y_val)"
   ]
  },
  {
   "cell_type": "code",
   "execution_count": 14,
   "metadata": {},
   "outputs": [],
   "source": [
    "X_test, y_test = [], []\n",
    "\n",
    "for i in range(timesteps_input, len(scaled_test) - timesteps_output):\n",
    "    X_test.append(scaled_test[i-timesteps_input:i, :])\n",
    "    y_test.append(scaled_test[i: i+timesteps_output, 0])\n",
    "\n",
    "X_test = np.array(X_test)\n",
    "y_test = np.array(y_test)"
   ]
  },
  {
   "cell_type": "markdown",
   "metadata": {},
   "source": [
    "- ### 4) Implemente uma rede recorrente do tipo LSTM ou GRU capaz de receber a série temporal da variável temperatura e prever a temperatura da próxima hora."
   ]
  },
  {
   "cell_type": "markdown",
   "metadata": {},
   "source": [
    "##### Modelo"
   ]
  },
  {
   "cell_type": "code",
   "execution_count": 15,
   "metadata": {},
   "outputs": [],
   "source": [
    "def build_model(timesteps_input, features, timesteps_output, unit_memory=128, activation='relu', dropout=0, optimizer='adam', loss='mse'):\n",
    "    \n",
    "    model = Sequential()\n",
    "    model.add(LSTM(unit_memory, activation='tanh', input_shape=(timesteps_input, features), return_sequences=False))\n",
    "    model.add(Dense(64, activation=activation))\n",
    "    model.add(Dropout(dropout))\n",
    "    model.add(Dense(32, activation=activation))\n",
    "    model.add(Dropout(dropout))\n",
    "    model.add(Dense(timesteps_output, activation='linear'))\n",
    "\n",
    "    model.compile(optimizer=optimizer, loss=loss)\n",
    "    \n",
    "    return model"
   ]
  },
  {
   "cell_type": "markdown",
   "metadata": {},
   "source": [
    "##### Callbacks"
   ]
  },
  {
   "cell_type": "code",
   "execution_count": 16,
   "metadata": {},
   "outputs": [],
   "source": [
    "earlyStopping = EarlyStopping(\n",
    "    monitor='val_loss',\n",
    "    patience=20,\n",
    "    mode='min',\n",
    "    verbose=1,\n",
    "    restore_best_weights=True\n",
    ")\n",
    "\n",
    "reduce_lr = ReduceLROnPlateau(\n",
    "    monitor='val_loss',\n",
    "    factor=0.2,\n",
    "    patience=5,\n",
    "    verbose=1,\n",
    "    mode='min'\n",
    ")"
   ]
  },
  {
   "cell_type": "code",
   "execution_count": 17,
   "metadata": {},
   "outputs": [
    {
     "name": "stderr",
     "output_type": "stream",
     "text": [
      "2024-06-10 20:09:55.134901: I tensorflow/compiler/xla/stream_executor/cuda/cuda_gpu_executor.cc:981] could not open file to read NUMA node: /sys/bus/pci/devices/0000:65:00.0/numa_node\n",
      "Your kernel may have been built without NUMA support.\n",
      "2024-06-10 20:09:55.166027: I tensorflow/compiler/xla/stream_executor/cuda/cuda_gpu_executor.cc:981] could not open file to read NUMA node: /sys/bus/pci/devices/0000:65:00.0/numa_node\n",
      "Your kernel may have been built without NUMA support.\n",
      "2024-06-10 20:09:55.166129: I tensorflow/compiler/xla/stream_executor/cuda/cuda_gpu_executor.cc:981] could not open file to read NUMA node: /sys/bus/pci/devices/0000:65:00.0/numa_node\n",
      "Your kernel may have been built without NUMA support.\n",
      "2024-06-10 20:09:55.169127: I tensorflow/compiler/xla/stream_executor/cuda/cuda_gpu_executor.cc:981] could not open file to read NUMA node: /sys/bus/pci/devices/0000:65:00.0/numa_node\n",
      "Your kernel may have been built without NUMA support.\n",
      "2024-06-10 20:09:55.169270: I tensorflow/compiler/xla/stream_executor/cuda/cuda_gpu_executor.cc:981] could not open file to read NUMA node: /sys/bus/pci/devices/0000:65:00.0/numa_node\n",
      "Your kernel may have been built without NUMA support.\n",
      "2024-06-10 20:09:55.169322: I tensorflow/compiler/xla/stream_executor/cuda/cuda_gpu_executor.cc:981] could not open file to read NUMA node: /sys/bus/pci/devices/0000:65:00.0/numa_node\n",
      "Your kernel may have been built without NUMA support.\n",
      "2024-06-10 20:09:56.427290: I tensorflow/compiler/xla/stream_executor/cuda/cuda_gpu_executor.cc:981] could not open file to read NUMA node: /sys/bus/pci/devices/0000:65:00.0/numa_node\n",
      "Your kernel may have been built without NUMA support.\n",
      "2024-06-10 20:09:56.427485: I tensorflow/compiler/xla/stream_executor/cuda/cuda_gpu_executor.cc:981] could not open file to read NUMA node: /sys/bus/pci/devices/0000:65:00.0/numa_node\n",
      "Your kernel may have been built without NUMA support.\n",
      "2024-06-10 20:09:56.427496: I tensorflow/core/common_runtime/gpu/gpu_device.cc:1726] Could not identify NUMA node of platform GPU id 0, defaulting to 0.  Your kernel may not have been built with NUMA support.\n",
      "2024-06-10 20:09:56.427542: I tensorflow/compiler/xla/stream_executor/cuda/cuda_gpu_executor.cc:981] could not open file to read NUMA node: /sys/bus/pci/devices/0000:65:00.0/numa_node\n",
      "Your kernel may have been built without NUMA support.\n",
      "2024-06-10 20:09:56.427575: I tensorflow/core/common_runtime/gpu/gpu_device.cc:1639] Created device /job:localhost/replica:0/task:0/device:GPU:0 with 5392 MB memory:  -> device: 0, name: NVIDIA GeForce RTX 3070, pci bus id: 0000:65:00.0, compute capability: 8.6\n"
     ]
    }
   ],
   "source": [
    "model = build_model(timesteps_input=120, features=1, timesteps_output=6) # 6 * 10  = 60 min"
   ]
  },
  {
   "cell_type": "markdown",
   "metadata": {},
   "source": [
    "##### Treinamento"
   ]
  },
  {
   "cell_type": "code",
   "execution_count": 18,
   "metadata": {},
   "outputs": [
    {
     "name": "stderr",
     "output_type": "stream",
     "text": [
      "2024-06-10 20:10:02.458685: I tensorflow/compiler/xla/stream_executor/cuda/cuda_dnn.cc:432] Loaded cuDNN version 8902\n",
      "2024-06-10 20:10:04.042748: I tensorflow/compiler/xla/stream_executor/cuda/cuda_blas.cc:606] TensorFloat-32 will be used for the matrix multiplication. This will only be logged once.\n",
      "2024-06-10 20:10:04.046850: I tensorflow/compiler/xla/service/service.cc:168] XLA service 0x7fc6d4d18c80 initialized for platform CUDA (this does not guarantee that XLA will be used). Devices:\n",
      "2024-06-10 20:10:04.046896: I tensorflow/compiler/xla/service/service.cc:176]   StreamExecutor device (0): NVIDIA GeForce RTX 3070, Compute Capability 8.6\n",
      "2024-06-10 20:10:04.054397: I tensorflow/compiler/mlir/tensorflow/utils/dump_mlir_util.cc:255] disabling MLIR crash reproducer, set env var `MLIR_CRASH_REPRODUCER_DIRECTORY` to enable.\n",
      "2024-06-10 20:10:04.210664: I tensorflow/tsl/platform/default/subprocess.cc:304] Start cannot spawn child process: No such file or directory\n",
      "2024-06-10 20:10:04.272861: I ./tensorflow/compiler/jit/device_compiler.h:186] Compiled cluster using XLA!  This line is logged at most once for the lifetime of the process.\n"
     ]
    },
    {
     "name": "stdout",
     "output_type": "stream",
     "text": [
      "2628/2628 [==============================] - 76s 26ms/step - loss: 0.0105 - val_loss: 0.0048 - lr: 0.0010\n"
     ]
    }
   ],
   "source": [
    "history = model.fit(\n",
    "    X_train,\n",
    "    y_train,\n",
    "    batch_size=128,\n",
    "    validation_data=(X_val, y_val),\n",
    "    validation_batch_size=128,\n",
    "    epochs=1,\n",
    "    callbacks=[earlyStopping, reduce_lr, TerminateOnNaN()],\n",
    "    verbose=1)"
   ]
  },
  {
   "cell_type": "markdown",
   "metadata": {},
   "source": [
    "##### Avaliação"
   ]
  },
  {
   "cell_type": "code",
   "execution_count": 19,
   "metadata": {},
   "outputs": [
    {
     "name": "stdout",
     "output_type": "stream",
     "text": [
      "654/654 [==============================] - 7s 10ms/step\n",
      "RMSE: 0.0035177135460998424\n"
     ]
    }
   ],
   "source": [
    "y_pred = model.predict(X_test)\n",
    "rmse = mean_squared_error(y_test, y_pred, squared=True)\n",
    "print(f\"RMSE: {rmse}\")"
   ]
  },
  {
   "cell_type": "markdown",
   "metadata": {},
   "source": [
    "##### Visualização"
   ]
  },
  {
   "cell_type": "code",
   "execution_count": 20,
   "metadata": {},
   "outputs": [
    {
     "data": {
      "text/plain": [
       "[]"
      ]
     },
     "execution_count": 20,
     "metadata": {},
     "output_type": "execute_result"
    },
    {
     "data": {
      "image/png": "[encoded data removed]",
      "text/plain": [
       "<Figure size 640x480 with 1 Axes>"
      ]
     },
     "metadata": {},
     "output_type": "display_data"
    }
   ],
   "source": [
    "n = 11\n",
    "plt.title(\"Temperature Forecast\")\n",
    "sns.lineplot(x=test.index[timesteps_input+n : timesteps_input+n+timesteps_output], y=y_test[n] * t_std + t_mean, label=\"Real\")\n",
    "sns.lineplot(x=test.index[timesteps_input+n : timesteps_input+n+timesteps_output], y=y_pred[n] * t_std + t_mean, label=\"Pred\")\n",
    "plt.plot()"
   ]
  },
  {
   "cell_type": "markdown",
   "metadata": {},
   "source": [
    "- ### 5) Varie os parâmetros da rede e verifique quais impactos são causados no erro de predição da temperatura na base de teste. Considere:"
   ]
  },
  {
   "cell_type": "markdown",
   "metadata": {},
   "source": [
    "- #### 5.1) Número de unidades de memórias da LSTM/GRU"
   ]
  },
  {
   "cell_type": "markdown",
   "metadata": {},
   "source": [
    "##### Modelo"
   ]
  },
  {
   "cell_type": "code",
   "execution_count": 21,
   "metadata": {},
   "outputs": [],
   "source": [
    "model = build_model(timesteps_input=120, features=1, timesteps_output=6, unit_memory=64) # 6 * 10  = 60 min"
   ]
  },
  {
   "cell_type": "markdown",
   "metadata": {},
   "source": [
    "##### Treinamento"
   ]
  },
  {
   "cell_type": "code",
   "execution_count": 22,
   "metadata": {},
   "outputs": [
    {
     "name": "stdout",
     "output_type": "stream",
     "text": [
      "2628/2628 [==============================] - 70s 26ms/step - loss: 0.0116 - val_loss: 0.0047 - lr: 0.0010\n"
     ]
    }
   ],
   "source": [
    "history = model.fit(\n",
    "    X_train,\n",
    "    y_train,\n",
    "    batch_size=128,\n",
    "    validation_data=(X_val, y_val),\n",
    "    validation_batch_size=128,\n",
    "    epochs=1,\n",
    "    callbacks=[earlyStopping, reduce_lr, TerminateOnNaN()],\n",
    "    verbose=1)"
   ]
  },
  {
   "cell_type": "markdown",
   "metadata": {},
   "source": [
    "##### Avaliação\t"
   ]
  },
  {
   "cell_type": "code",
   "execution_count": 23,
   "metadata": {},
   "outputs": [
    {
     "name": "stdout",
     "output_type": "stream",
     "text": [
      "654/654 [==============================] - 6s 9ms/step\n",
      "RMSE: 0.0036398909810576806\n"
     ]
    }
   ],
   "source": [
    "y_pred = model.predict(X_test)\n",
    "rmse = mean_squared_error(y_test, y_pred, squared=True)\n",
    "print(f\"RMSE: {rmse}\")"
   ]
  },
  {
   "cell_type": "markdown",
   "metadata": {},
   "source": [
    "##### Visualização"
   ]
  },
  {
   "cell_type": "code",
   "execution_count": null,
   "metadata": {},
   "outputs": [],
   "source": []
  },
  {
   "cell_type": "markdown",
   "metadata": {},
   "source": [
    "- #### 5.2) Inserir camadas de Dropout\n"
   ]
  },
  {
   "cell_type": "markdown",
   "metadata": {},
   "source": [
    "##### Modelo"
   ]
  },
  {
   "cell_type": "code",
   "execution_count": 24,
   "metadata": {},
   "outputs": [],
   "source": [
    "model = build_model(timesteps_input=120, features=1, timesteps_output=6, dropout=0.05) # 6 * 10  = 60 min"
   ]
  },
  {
   "cell_type": "markdown",
   "metadata": {},
   "source": [
    "##### Treinamento"
   ]
  },
  {
   "cell_type": "code",
   "execution_count": 25,
   "metadata": {},
   "outputs": [
    {
     "name": "stdout",
     "output_type": "stream",
     "text": [
      "2574/2628 [============================>.] - ETA: 1s - loss: 0.0224"
     ]
    }
   ],
   "source": [
    "history = model.fit(\n",
    "    X_train,\n",
    "    y_train,\n",
    "    batch_size=128,\n",
    "    validation_data=(X_val, y_val),\n",
    "    validation_batch_size=128,\n",
    "    epochs=1,\n",
    "    callbacks=[earlyStopping, reduce_lr, TerminateOnNaN()],\n",
    "    verbose=1)"
   ]
  },
  {
   "cell_type": "markdown",
   "metadata": {},
   "source": [
    "##### Avaliação"
   ]
  },
  {
   "cell_type": "code",
   "execution_count": null,
   "metadata": {},
   "outputs": [],
   "source": [
    "y_pred = model.predict(X_test)\n",
    "rmse = mean_squared_error(y_test, y_pred, squared=True)\n",
    "print(f\"RMSE: {rmse}\")"
   ]
  },
  {
   "cell_type": "markdown",
   "metadata": {},
   "source": [
    "##### Vizualização"
   ]
  },
  {
   "cell_type": "code",
   "execution_count": null,
   "metadata": {},
   "outputs": [],
   "source": []
  },
  {
   "cell_type": "markdown",
   "metadata": {},
   "source": [
    "- #### 5.3) Técnicas de otimização"
   ]
  },
  {
   "cell_type": "markdown",
   "metadata": {},
   "source": [
    "##### Modelo"
   ]
  },
  {
   "cell_type": "code",
   "execution_count": null,
   "metadata": {},
   "outputs": [],
   "source": [
    "model = build_model(timesteps_input=120, features=1, timesteps_output=6, optimizer='sgd') # 6 * 10  = 60 min"
   ]
  },
  {
   "cell_type": "markdown",
   "metadata": {},
   "source": [
    "##### Treinamento"
   ]
  },
  {
   "cell_type": "code",
   "execution_count": null,
   "metadata": {},
   "outputs": [],
   "source": [
    "history = model.fit(\n",
    "    X_train,\n",
    "    y_train,\n",
    "    batch_size=128,\n",
    "    validation_data=(X_val, y_val),\n",
    "    validation_batch_size=128,\n",
    "    epochs=1,\n",
    "    callbacks=[earlyStopping, reduce_lr, TerminateOnNaN()],\n",
    "    verbose=1)"
   ]
  },
  {
   "cell_type": "markdown",
   "metadata": {},
   "source": [
    "##### Avaliação"
   ]
  },
  {
   "cell_type": "code",
   "execution_count": null,
   "metadata": {},
   "outputs": [],
   "source": [
    "y_pred = model.predict(X_test)\n",
    "rmse = mean_squared_error(y_test, y_pred, squared=True)\n",
    "print(f\"RMSE: {rmse}\")"
   ]
  },
  {
   "cell_type": "markdown",
   "metadata": {},
   "source": [
    "##### Visualização"
   ]
  },
  {
   "cell_type": "code",
   "execution_count": null,
   "metadata": {},
   "outputs": [],
   "source": []
  },
  {
   "cell_type": "markdown",
   "metadata": {},
   "source": [
    "- #### 5.4) Função de perda"
   ]
  },
  {
   "cell_type": "markdown",
   "metadata": {},
   "source": [
    "##### Modelo"
   ]
  },
  {
   "cell_type": "code",
   "execution_count": null,
   "metadata": {},
   "outputs": [],
   "source": [
    "model = build_model(timesteps_input=120, features=1, timesteps_output=6, loss='mae') # 6 * 10  = 60 min"
   ]
  },
  {
   "cell_type": "markdown",
   "metadata": {},
   "source": [
    "##### Treinamento"
   ]
  },
  {
   "cell_type": "code",
   "execution_count": null,
   "metadata": {},
   "outputs": [],
   "source": [
    "history = model.fit(\n",
    "    X_train,\n",
    "    y_train,\n",
    "    batch_size=128,\n",
    "    validation_data=(X_val, y_val),\n",
    "    validation_batch_size=128,\n",
    "    epochs=1,\n",
    "    callbacks=[earlyStopping, reduce_lr, TerminateOnNaN()],\n",
    "    verbose=1)"
   ]
  },
  {
   "cell_type": "markdown",
   "metadata": {},
   "source": [
    "##### Avaliação"
   ]
  },
  {
   "cell_type": "code",
   "execution_count": null,
   "metadata": {},
   "outputs": [],
   "source": [
    "y_pred = model.predict(X_test)\n",
    "mae = mean_absolute_error(y_test, y_pred)\n",
    "rmse = mean_squared_error(y_test, y_pred, squared=True)\n",
    "print(f\"RMSE: {rmse}\\nMAE: {mae}\")"
   ]
  },
  {
   "cell_type": "markdown",
   "metadata": {},
   "source": [
    "##### Visualização"
   ]
  },
  {
   "cell_type": "code",
   "execution_count": null,
   "metadata": {},
   "outputs": [],
   "source": []
  },
  {
   "cell_type": "markdown",
   "metadata": {},
   "source": [
    "- ### 6) Altere o janelamento de amostras passadas usadas para a predição. O que acontece com a precisão da predicão na base de teste?"
   ]
  },
  {
   "cell_type": "markdown",
   "metadata": {},
   "source": [
    "- #### 6.1) Janelamento de 60 amostras"
   ]
  },
  {
   "cell_type": "markdown",
   "metadata": {},
   "source": [
    "##### Preparação dos dados"
   ]
  },
  {
   "cell_type": "code",
   "execution_count": null,
   "metadata": {},
   "outputs": [],
   "source": [
    "timesteps_input_60 = 60\n",
    "\n",
    "X_train_60, y_train_60 = [], []\n",
    "\n",
    "for i in range(timesteps_input_60, len(scaled_train) - timesteps_output):\n",
    "    X_train_60.append(scaled_train[i-timesteps_input_60:i, :])\n",
    "    y_train_60.append(scaled_train[i: i+timesteps_output, 0])\n",
    "\n",
    "X_train_60 = np.array(X_train_60)\n",
    "y_train_60 = np.array(y_train_60)\n",
    "\n",
    "X_val_60, y_val_60 = [], []\n",
    "\n",
    "for i in range(timesteps_input_60, len(scaled_val) - timesteps_output):\n",
    "    X_val_60.append(scaled_val[i-timesteps_input_60:i, :])\n",
    "    y_val_60.append(scaled_val[i: i+timesteps_output, 0])\n",
    "\n",
    "X_val_60 = np.array(X_val_60)\n",
    "y_val_60 = np.array(y_val_60)\n",
    "\n",
    "X_test_60, y_test_60 = [], []\n",
    "\n",
    "for i in range(timesteps_input_60, len(scaled_test) - timesteps_output):\n",
    "    X_test_60.append(scaled_test[i-timesteps_input_60:i, :])\n",
    "    y_test_60.append(scaled_test[i: i+timesteps_output, 0])\n",
    "\n",
    "X_test_60 = np.array(X_test_60)\n",
    "y_test_60 = np.array(y_test_60)"
   ]
  },
  {
   "cell_type": "code",
   "execution_count": null,
   "metadata": {},
   "outputs": [],
   "source": [
    "# Modelo\n",
    "model = build_model(timesteps_input=60, features=1, timesteps_output=6) # 6 * 10  = 60 min\n",
    "\n",
    "# Treinamento\n",
    "history = model.fit(\n",
    "    X_train_60,\n",
    "    y_train_60,\n",
    "    batch_size=128,\n",
    "    validation_data=(X_val_60, y_val_60),\n",
    "    validation_batch_size=128,\n",
    "    epochs=1,\n",
    "    callbacks=[earlyStopping, reduce_lr, TerminateOnNaN()],\n",
    "    verbose=1)\n",
    "\n",
    "# Avaliação\n",
    "y_pred = model.predict(X_test_60)\n",
    "rmse = mean_squared_error(y_test_60, y_pred, squared=True)\n",
    "print(f\"RMSE: {rmse}\")"
   ]
  },
  {
   "cell_type": "code",
   "execution_count": null,
   "metadata": {},
   "outputs": [],
   "source": []
  },
  {
   "cell_type": "markdown",
   "metadata": {},
   "source": [
    "- #### 6.2) Janelamento de 240 amostras"
   ]
  },
  {
   "cell_type": "markdown",
   "metadata": {},
   "source": [
    "##### Preparação dos dados"
   ]
  },
  {
   "cell_type": "code",
   "execution_count": null,
   "metadata": {},
   "outputs": [],
   "source": [
    "timesteps_input_240 = 240\n",
    "\n",
    "X_train_240, y_train_240 = [], []\n",
    "\n",
    "for i in range(timesteps_input_240, len(scaled_train) - timesteps_output):\n",
    "    X_train_240.append(scaled_train[i-timesteps_input_240:i, :])\n",
    "    y_train_240.append(scaled_train[i: i+timesteps_output, 0])\n",
    "\n",
    "X_train_240 = np.array(X_train_240)\n",
    "y_train_240 = np.array(y_train_240)\n",
    "\n",
    "X_val_240, y_val_240 = [], []\n",
    "\n",
    "for i in range(timesteps_input_240, len(scaled_val) - timesteps_output):\n",
    "    X_val_240.append(scaled_val[i-timesteps_input_240:i, :])\n",
    "    y_val_240.append(scaled_val[i: i+timesteps_output, 0])\n",
    "\n",
    "X_val_240 = np.array(X_val_240)\n",
    "y_val_240 = np.array(y_val_240)\n",
    "\n",
    "X_test_240, y_test_240 = [], []\n",
    "\n",
    "for i in range(timesteps_input_240, len(scaled_test) - timesteps_output):\n",
    "    X_test_240.append(scaled_test[i-timesteps_input_240:i, :])\n",
    "    y_test_240.append(scaled_test[i: i+timesteps_output, 0])\n",
    "\n",
    "X_test_240 = np.array(X_test_240)\n",
    "y_test_240 = np.array(y_test_240)"
   ]
  },
  {
   "cell_type": "code",
   "execution_count": null,
   "metadata": {},
   "outputs": [],
   "source": [
    "# Modelo\n",
    "model = build_model(timesteps_input=240, features=1, timesteps_output=6) # 6 * 10  = 60 min\n",
    "\n",
    "# Treinamento\n",
    "history = model.fit(\n",
    "    X_train_240,\n",
    "    y_train_240,\n",
    "    batch_size=128,\n",
    "    validation_data=(X_val_240, y_val_240),\n",
    "    validation_batch_size=128,\n",
    "    epochs=1,\n",
    "    callbacks=[earlyStopping, reduce_lr, TerminateOnNaN()],\n",
    "    verbose=1)\n",
    "\n",
    "# Avaliação\n",
    "y_pred = model.predict(X_test_240)\n",
    "rmse = mean_squared_error(y_test_240, y_pred, squared=True)\n",
    "print(f\"RMSE: {rmse}\")"
   ]
  },
  {
   "cell_type": "code",
   "execution_count": null,
   "metadata": {},
   "outputs": [],
   "source": []
  },
  {
   "cell_type": "markdown",
   "metadata": {},
   "source": [
    "- ### 7) Considere somente os dados dos anos de 2015 em diante no treinamento do modelo. Como o tamanho da base de dados afeta a predição? Com base nos resultados, como você interpreta a relação do passado histórico com a predição do valor atual da temperatura?"
   ]
  },
  {
   "cell_type": "markdown",
   "metadata": {},
   "source": [
    "##### Preparação dos dados"
   ]
  },
  {
   "cell_type": "code",
   "execution_count": null,
   "metadata": {},
   "outputs": [],
   "source": [
    "data_temperatura_2015 = data_temperatura[data_temperatura.index > '2015-01-01']"
   ]
  },
  {
   "cell_type": "code",
   "execution_count": null,
   "metadata": {},
   "outputs": [],
   "source": [
    "#Train test split\n",
    "train_2015, _temp_2015 = train_test_split(data_temperatura_2015, test_size=0.2, shuffle=False)\n",
    "val_2015, test_2015 = train_test_split(_temp_2015, test_size=0.25, shuffle=False)\n",
    "\n",
    "#Transformação\n",
    "scaler_2015 = StandardScaler()\n",
    "\n",
    "scaler_2015.fit(train_2015)\n",
    "scaled_train_2015 = scaler_2015.transform(train_2015)\n",
    "scaled_val_2015 = scaler_2015.transform(val_2015)\n",
    "scaled_test_2015 = scaler_2015.transform(test_2015)\n",
    "\n",
    "X_train_2015, y_train_2015 = [], []\n",
    "\n",
    "for i in range(timesteps_input, len(scaled_train_2015) - timesteps_output):\n",
    "    X_train_2015.append(scaled_train_2015[i-timesteps_input:i, :])\n",
    "    y_train_2015.append(scaled_train_2015[i: i+timesteps_output, 0])\n",
    "\n",
    "X_train_2015 = np.array(X_train_2015)\n",
    "y_train_2015 = np.array(y_train_2015)\n",
    "\n",
    "X_val_2015, y_val_2015 = [], []\n",
    "\n",
    "for i in range(timesteps_input, len(scaled_val_2015) - timesteps_output):\n",
    "    X_val_2015.append(scaled_val_2015[i-timesteps_input:i, :])\n",
    "    y_val_2015.append(scaled_val_2015[i: i+timesteps_output, 0])\n",
    "\n",
    "X_val_2015 = np.array(X_val_2015)\n",
    "y_val_2015 = np.array(y_val_2015)\n",
    "\n",
    "X_test_2015, y_test_2015 = [], []\n",
    "\n",
    "for i in range(timesteps_input, len(scaled_test_2015) - timesteps_output):\n",
    "    X_test_2015.append(scaled_test_2015[i-timesteps_input:i, :])\n",
    "    y_test_2015.append(scaled_test_2015[i: i+timesteps_output, 0])\n",
    "\n",
    "X_test_2015 = np.array(X_test_2015)\n",
    "y_test_2015 = np.array(y_test_2015)"
   ]
  },
  {
   "cell_type": "markdown",
   "metadata": {},
   "source": [
    "##### Modelo"
   ]
  },
  {
   "cell_type": "code",
   "execution_count": null,
   "metadata": {},
   "outputs": [],
   "source": [
    "model = build_model(timesteps_input=120, features=1, timesteps_output=6) # 6 * 10  = 60 min"
   ]
  },
  {
   "cell_type": "markdown",
   "metadata": {},
   "source": [
    "##### Treinamento"
   ]
  },
  {
   "cell_type": "code",
   "execution_count": null,
   "metadata": {},
   "outputs": [],
   "source": [
    "history = model.fit(\n",
    "    X_train_2015,\n",
    "    y_train_2015,\n",
    "    batch_size=128,\n",
    "    validation_data=(X_val_2015, y_val_2015),\n",
    "    validation_batch_size=128,\n",
    "    epochs=1,\n",
    "    callbacks=[earlyStopping, reduce_lr, TerminateOnNaN()],\n",
    "    verbose=1)"
   ]
  },
  {
   "cell_type": "markdown",
   "metadata": {},
   "source": [
    "##### Avaliação"
   ]
  },
  {
   "cell_type": "code",
   "execution_count": null,
   "metadata": {},
   "outputs": [],
   "source": [
    "y_pred = model.predict(X_test_2015)\n",
    "rmse = mean_squared_error(y_test_2015, y_pred, squared=True)\n",
    "print(f\"RMSE: {rmse}\")"
   ]
  },
  {
   "cell_type": "markdown",
   "metadata": {},
   "source": [
    "##### Visualização"
   ]
  },
  {
   "cell_type": "code",
   "execution_count": null,
   "metadata": {},
   "outputs": [],
   "source": []
  },
  {
   "cell_type": "markdown",
   "metadata": {},
   "source": [
    "- ### 8) Altere o código para que ele seja capaz de realizar a predição da temperatura para um período maior, por exemplo, o valor da temperatura prevista para as próximas 24 horas."
   ]
  },
  {
   "cell_type": "markdown",
   "metadata": {},
   "source": [
    "##### Modelo"
   ]
  },
  {
   "cell_type": "code",
   "execution_count": null,
   "metadata": {},
   "outputs": [],
   "source": [
    "model = build_model(timesteps_input=120, features=1, timesteps_output=6 * 24) # 10 * 6 *24 = 1440 min = 24 horas"
   ]
  },
  {
   "cell_type": "markdown",
   "metadata": {},
   "source": [
    "##### Treinamento"
   ]
  },
  {
   "cell_type": "code",
   "execution_count": null,
   "metadata": {},
   "outputs": [],
   "source": [
    "history = model.fit(\n",
    "    X_train,\n",
    "    y_train,\n",
    "    batch_size=128,\n",
    "    validation_data=(X_val, y_val),\n",
    "    validation_batch_size=128,\n",
    "    epochs=1,\n",
    "    callbacks=[earlyStopping, reduce_lr, TerminateOnNaN()],\n",
    "    verbose=1)"
   ]
  },
  {
   "cell_type": "markdown",
   "metadata": {},
   "source": [
    "##### Avaliação"
   ]
  },
  {
   "cell_type": "code",
   "execution_count": null,
   "metadata": {},
   "outputs": [],
   "source": [
    "y_pred = model.predict(X_test)\n",
    "rmse = mean_squared_error(y_test, y_pred, squared=True)\n",
    "print(f\"RMSE: {rmse}\")"
   ]
  },
  {
   "cell_type": "markdown",
   "metadata": {},
   "source": [
    "##### Vizualização"
   ]
  },
  {
   "cell_type": "code",
   "execution_count": null,
   "metadata": {},
   "outputs": [],
   "source": []
  },
  {
   "cell_type": "markdown",
   "metadata": {},
   "source": [
    "- ### 9) (OPCIONAL) Considere o problema de predição multivariável, alimente a rede neural preditiva com todas as 12 variáveis e obtenha a previsão da temperatura para a hora seguinte."
   ]
  },
  {
   "cell_type": "markdown",
   "metadata": {},
   "source": [
    "##### Preparação dos dados"
   ]
  },
  {
   "cell_type": "code",
   "execution_count": null,
   "metadata": {},
   "outputs": [],
   "source": [
    "data_full = data[data.index > '2015-01-01']"
   ]
  },
  {
   "cell_type": "code",
   "execution_count": null,
   "metadata": {},
   "outputs": [],
   "source": [
    "#Train test split\n",
    "train_full, _temp_full = train_test_split(data_full, test_size=0.2, shuffle=False)\n",
    "val_full, test_full = train_test_split(_temp_full, test_size=0.25, shuffle=False)\n",
    "\n",
    "#Transformação\n",
    "scaler_full = StandardScaler()\n",
    "\n",
    "scaler_full.fit(train_full)\n",
    "scaled_train_full = scaler_full.transform(train_full)\n",
    "scaled_val_full = scaler_full.transform(val_full)\n",
    "scaled_test_full = scaler_full.transform(test_full)\n",
    "\n",
    "X_train_full, y_train_full = [], []\n",
    "\n",
    "for i in range(timesteps_input, len(scaled_train_full) - timesteps_output):\n",
    "    X_train_full.append(scaled_train_full[i-timesteps_input:i, :])\n",
    "    y_train_full.append(scaled_train_full[i: i+timesteps_output, 1])\n",
    "\n",
    "X_train_full = np.array(X_train_full)\n",
    "y_train_full = np.array(y_train_full)\n",
    "\n",
    "X_val_full, y_val_full = [], []\n",
    "\n",
    "for i in range(timesteps_input, len(scaled_val_full) - timesteps_output):\n",
    "    X_val_full.append(scaled_val_full[i-timesteps_input:i, :])\n",
    "    y_val_full.append(scaled_val_full[i: i+timesteps_output, 1])\n",
    "\n",
    "X_val_full = np.array(X_val_full)\n",
    "y_val_full = np.array(y_val_full)\n",
    "\n",
    "X_test_full, y_test_full = [], []\n",
    "\n",
    "for i in range(timesteps_input, len(scaled_test_full) - timesteps_output):\n",
    "    X_test_full.append(scaled_test_full[i-timesteps_input:i, :])\n",
    "    y_test_full.append(scaled_test_full[i: i+timesteps_output, 1])\n",
    "\n",
    "X_test_full = np.array(X_test_full)\n",
    "y_test_full = np.array(y_test_full)"
   ]
  },
  {
   "cell_type": "markdown",
   "metadata": {},
   "source": [
    "##### Modelo"
   ]
  },
  {
   "cell_type": "code",
   "execution_count": null,
   "metadata": {},
   "outputs": [],
   "source": [
    "model = build_model(timesteps_input=120, features=14, timesteps_output=6) # 6 * 10  = 60 min"
   ]
  },
  {
   "cell_type": "markdown",
   "metadata": {},
   "source": [
    "##### Treinamento"
   ]
  },
  {
   "cell_type": "code",
   "execution_count": null,
   "metadata": {},
   "outputs": [],
   "source": [
    "history = model.fit(\n",
    "    X_train_full,\n",
    "    y_train_full,\n",
    "    batch_size=128,\n",
    "    validation_data=(X_val_full, y_val_full),\n",
    "    validation_batch_size=128,\n",
    "    epochs=1,\n",
    "    callbacks=[earlyStopping, reduce_lr, TerminateOnNaN()],\n",
    "    verbose=1)"
   ]
  },
  {
   "cell_type": "markdown",
   "metadata": {},
   "source": [
    "##### Avaliação"
   ]
  },
  {
   "cell_type": "code",
   "execution_count": null,
   "metadata": {},
   "outputs": [],
   "source": [
    "y_pred = model.predict(X_test_full)\n",
    "rmse = mean_squared_error(y_test_full, y_pred, squared=True)\n",
    "print(f\"RMSE: {rmse}\")"
   ]
  },
  {
   "cell_type": "markdown",
   "metadata": {},
   "source": [
    "##### Visualização"
   ]
  },
  {
   "cell_type": "code",
   "execution_count": null,
   "metadata": {},
   "outputs": [],
   "source": []
  }
 ],
 "metadata": {
  "kernelspec": {
   "display_name": "base",
   "language": "python",
   "name": "python3"
  },
  "language_info": {
   "codemirror_mode": {
    "name": "ipython",
    "version": 3
   },
   "file_extension": ".py",
   "mimetype": "text/x-python",
   "name": "python",
   "nbconvert_exporter": "python",
   "pygments_lexer": "ipython3",
   "version": "3.11.7"
  }
 },
 "nbformat": 4,
 "nbformat_minor": 2
}
